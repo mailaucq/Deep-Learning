{
  "nbformat": 4,
  "nbformat_minor": 0,
  "metadata": {
    "colab": {
      "name": "Tutorial-Tensorflow.ipynb",
      "version": "0.3.2",
      "provenance": []
    },
    "kernelspec": {
      "name": "python3",
      "display_name": "Python 3"
    }
  },
  "cells": [
    {
      "cell_type": "code",
      "metadata": {
        "id": "ERKk2F7GJTpr",
        "colab_type": "code",
        "colab": {}
      },
      "source": [
        "import tensorflow as tf\n",
        "import numpy as np"
      ],
      "execution_count": 0,
      "outputs": []
    },
    {
      "cell_type": "markdown",
      "metadata": {
        "id": "1szCPE2uKUCR",
        "colab_type": "text"
      },
      "source": [
        "constante:  no cambia en el tiempo\n",
        "\n",
        "variable:\n",
        "\n",
        "placeholder: \n",
        "\n",
        "\n",
        "Se puede castear\n",
        "\n",
        "Se puede asignar nombre a las variables constante u operaciones.\n",
        "\n",
        "Name scope permite agrupar\n",
        "\n",
        "\n"
      ]
    },
    {
      "cell_type": "code",
      "metadata": {
        "id": "5HzWsbkkJgMD",
        "colab_type": "code",
        "colab": {}
      },
      "source": [
        "with tf.name_scope('MeetUp'):\n",
        "  node1 = tf.constant(3.0, dtype=tf.float32, name='node1')\n",
        "  node2 = tf.constant(4.0, dtype=tf.float16, name='node2')\n",
        "  suma = tf.add(node1, tf.cast(node2, dtype=tf.float32), name='suma')  #castear)\n",
        "                \n",
        "multi = tf.multiply(node1, suma, name='multi')\n"
      ],
      "execution_count": 0,
      "outputs": []
    },
    {
      "cell_type": "markdown",
      "metadata": {
        "id": "aEgja5nDK6gF",
        "colab_type": "text"
      },
      "source": [
        "Para acceder a los datos solo se hace con sesiones:\n",
        "\n",
        "Se puede usar run o eval"
      ]
    },
    {
      "cell_type": "code",
      "metadata": {
        "id": "6uErTseoJ2-N",
        "colab_type": "code",
        "outputId": "6521c4dc-c6b7-4e10-94c3-799911fbf6f6",
        "colab": {
          "base_uri": "https://localhost:8080/",
          "height": 34
        }
      },
      "source": [
        "with tf.Session() as sess:\n",
        "  r =sess.run(suma)\n",
        "  r2 = suma.eval()\n",
        "  print(r)"
      ],
      "execution_count": 0,
      "outputs": [
        {
          "output_type": "stream",
          "text": [
            "7.0\n"
          ],
          "name": "stdout"
        }
      ]
    },
    {
      "cell_type": "markdown",
      "metadata": {
        "id": "vzgYHfzmMEOZ",
        "colab_type": "text"
      },
      "source": [
        "Existe una funcion para no necesitar el sesion"
      ]
    },
    {
      "cell_type": "code",
      "metadata": {
        "id": "kDfKsrX4LI7L",
        "colab_type": "code",
        "outputId": "bea2cf5c-d228-4784-908b-65768c2f9500",
        "colab": {
          "base_uri": "https://localhost:8080/",
          "height": 34
        }
      },
      "source": [
        "import tensorflow as tf\n",
        "tf.enable_eager_execution()\n",
        "import numpy as np\n",
        "import matplotlib.pyplot as plt\n",
        "\n",
        "node1 = tf.constant(3.0, dtype=tf.float32, name='node1')\n",
        "node2 = tf.constant(4.0, dtype=tf.float16, name='node2')\n",
        "suma = node1 + tf.cast(node2, dtype=tf.float32)  #castear\n",
        "multi = tf.multiply(node1, suma, name='multi')\n",
        "print(node1)\n"
      ],
      "execution_count": 0,
      "outputs": [
        {
          "output_type": "stream",
          "text": [
            "tf.Tensor(3.0, shape=(), dtype=float32)\n"
          ],
          "name": "stdout"
        }
      ]
    },
    {
      "cell_type": "markdown",
      "metadata": {
        "id": "X0Z3haicPvRA",
        "colab_type": "text"
      },
      "source": [
        "Placeholder: es como input de entrada\n",
        "\n",
        "\n",
        "Cuando un grafo se genera este ya no puede ser cambiado, a menos que se use placeholders\n",
        "\n",
        "\n",
        "Las Variables solo son carcazas, para llenarlos de valores se tiene que abrir una session: global_variables_initializer\n",
        "\n",
        "Se debe dar valor a los placeholder en el feeddict\n",
        "\n",
        "Para asignar un valor a una variable usar: assign"
      ]
    },
    {
      "cell_type": "code",
      "metadata": {
        "id": "UM-2tq47MkXX",
        "colab_type": "code",
        "outputId": "851af1d6-6795-412d-bcfa-261732459d82",
        "colab": {
          "base_uri": "https://localhost:8080/",
          "height": 208
        }
      },
      "source": [
        "a = tf.placeholder(dtype=tf.float32, shape={})\n",
        "b = tf.placeholder(dtype=tf.float32, shape={})\n",
        "c = tf.Variable(tf.zeros((), dtype=tf.int8), dtype=tf.int8) # zero un valor simple, tbm puede ser matrices\n",
        "\n",
        "suma = tf.add(a,b)\n",
        "\n",
        "with tf.Session() as sess:\n",
        "  sess.run(tf.global_variables_initializer())\n",
        "  s, var1 = sess.run([suma, c], feed_dict={a:1, b:5})\n",
        "  s2 = sess.run(suma, feed_dict={a:10, b:2.5})\n",
        "  print(s, var1, s2)\n",
        "  \n",
        "  \n",
        "  for i in range(10):\n",
        "    aux = tf.cast(suma, dtype=tf.int8)\n",
        "    suma_c = c.assign(c + aux)\n",
        "    print(sess.run(suma_c, feed_dict={a:10, b:3})) # aqui se tiene que anhadir el feeddict ya que la variable suma tiene placeholders"
      ],
      "execution_count": 0,
      "outputs": [
        {
          "output_type": "stream",
          "text": [
            "6.0 0 12.5\n",
            "13\n",
            "26\n",
            "39\n",
            "52\n",
            "65\n",
            "78\n",
            "91\n",
            "104\n",
            "117\n",
            "-126\n"
          ],
          "name": "stdout"
        }
      ]
    },
    {
      "cell_type": "markdown",
      "metadata": {
        "id": "yiQyZzLieKq4",
        "colab_type": "text"
      },
      "source": [
        ""
      ]
    },
    {
      "cell_type": "code",
      "metadata": {
        "id": "dKh96P19RPx_",
        "colab_type": "code",
        "colab": {}
      },
      "source": [
        "W = tf.Variable(tf.truncated_normal([1], mean=0, stddev=1, name='weight'))\n",
        "b = tf.Variable(tf.truncated_normal([1]), name='bias')\n",
        "X = tf.placeholder(shape=[None], dtype=tf.float32)\n",
        "Y = tf.placeholder(shape=[None], dtype=tf.float32)"
      ],
      "execution_count": 0,
      "outputs": []
    },
    {
      "cell_type": "code",
      "metadata": {
        "id": "gQgalkyAezg7",
        "colab_type": "code",
        "outputId": "de297b24-1b5b-4435-882b-e56fcf6934d2",
        "colab": {
          "base_uri": "https://localhost:8080/",
          "height": 5227
        }
      },
      "source": [
        "hypothesis = X*W + b\n",
        "cost = tf.reduce_mean(tf.square(hypothesis - Y)) # square error\n",
        "optimizer = tf.train.GradientDescentOptimizer(learning_rate=0.001) # ya inicializa las variables\n",
        "train = optimizer.minimize(cost) # entrenar y actualizar las variables , se necesita inicializar en la session\n",
        "\n",
        "epoch = 300\n",
        "\n",
        "with tf.Session() as sess:\n",
        "  sess.run(tf.global_variables_initializer())\n",
        "  _X = [1,2,3]\n",
        "  _Y = [1,2,3]\n",
        "  list_cost = []\n",
        "  list_w = []\n",
        "  for i in range(epoch):\n",
        "    _cost, _W, _b, _ = sess.run([cost, W, b, train], feed_dict={X: _X, Y: _Y})\n",
        "    print(_cost)\n",
        "    list_cost.append(_cost)\n",
        "    list_w.append(_W)\n",
        "        "
      ],
      "execution_count": 0,
      "outputs": [
        {
          "output_type": "stream",
          "text": [
            "1.6170435\n",
            "1.5820557\n",
            "1.547839\n",
            "1.5143768\n",
            "1.4816529\n",
            "1.4496508\n",
            "1.4183542\n",
            "1.3877478\n",
            "1.3578166\n",
            "1.3285452\n",
            "1.2999197\n",
            "1.2719247\n",
            "1.2445474\n",
            "1.217774\n",
            "1.1915903\n",
            "1.1659842\n",
            "1.1409425\n",
            "1.1164529\n",
            "1.0925039\n",
            "1.0690827\n",
            "1.0461782\n",
            "1.0237781\n",
            "1.0018724\n",
            "0.980449\n",
            "0.9594987\n",
            "0.9390101\n",
            "0.91897327\n",
            "0.8993778\n",
            "0.8802145\n",
            "0.8614742\n",
            "0.8431465\n",
            "0.82522315\n",
            "0.8076946\n",
            "0.7905523\n",
            "0.7737883\n",
            "0.75739354\n",
            "0.74136037\n",
            "0.72568065\n",
            "0.7103467\n",
            "0.69535065\n",
            "0.6806846\n",
            "0.6663422\n",
            "0.6523157\n",
            "0.6385986\n",
            "0.62518364\n",
            "0.61206454\n",
            "0.59923464\n",
            "0.58668727\n",
            "0.5744164\n",
            "0.5624158\n",
            "0.55067974\n",
            "0.5392021\n",
            "0.5279779\n",
            "0.5170004\n",
            "0.5062652\n",
            "0.49576655\n",
            "0.48549905\n",
            "0.47545758\n",
            "0.46563745\n",
            "0.4560336\n",
            "0.44664165\n",
            "0.4374564\n",
            "0.4284735\n",
            "0.41968837\n",
            "0.4110968\n",
            "0.40269443\n",
            "0.39447698\n",
            "0.38644075\n",
            "0.37858137\n",
            "0.37089524\n",
            "0.36337814\n",
            "0.35602665\n",
            "0.3488371\n",
            "0.3418058\n",
            "0.3349292\n",
            "0.3282042\n",
            "0.321627\n",
            "0.31519482\n",
            "0.30890426\n",
            "0.30275196\n",
            "0.29673523\n",
            "0.2908509\n",
            "0.28509608\n",
            "0.27946785\n",
            "0.27396354\n",
            "0.26858035\n",
            "0.26331568\n",
            "0.25816673\n",
            "0.25313124\n",
            "0.24820642\n",
            "0.24338986\n",
            "0.23867945\n",
            "0.23407258\n",
            "0.22956699\n",
            "0.22516038\n",
            "0.22085075\n",
            "0.21663593\n",
            "0.21251374\n",
            "0.20848227\n",
            "0.20453937\n",
            "0.2006831\n",
            "0.19691165\n",
            "0.19322307\n",
            "0.18961555\n",
            "0.18608736\n",
            "0.18263656\n",
            "0.1792617\n",
            "0.175961\n",
            "0.17273276\n",
            "0.16957544\n",
            "0.16648741\n",
            "0.16346729\n",
            "0.16051339\n",
            "0.15762438\n",
            "0.15479885\n",
            "0.15203537\n",
            "0.14933246\n",
            "0.146689\n",
            "0.14410342\n",
            "0.14157452\n",
            "0.13910115\n",
            "0.13668214\n",
            "0.13431607\n",
            "0.13200188\n",
            "0.12973845\n",
            "0.12752475\n",
            "0.12535943\n",
            "0.123241775\n",
            "0.12117035\n",
            "0.11914441\n",
            "0.11716283\n",
            "0.11522468\n",
            "0.11332893\n",
            "0.11147469\n",
            "0.10966111\n",
            "0.10788715\n",
            "0.106152095\n",
            "0.10445497\n",
            "0.10279497\n",
            "0.101171315\n",
            "0.09958311\n",
            "0.098029695\n",
            "0.09651027\n",
            "0.09502399\n",
            "0.0935702\n",
            "0.092148274\n",
            "0.0907573\n",
            "0.08939675\n",
            "0.088065945\n",
            "0.086764164\n",
            "0.08549083\n",
            "0.084245235\n",
            "0.083026804\n",
            "0.08183494\n",
            "0.0806691\n",
            "0.079528615\n",
            "0.07841307\n",
            "0.07732182\n",
            "0.076254316\n",
            "0.075210065\n",
            "0.0741885\n",
            "0.07318916\n",
            "0.072211586\n",
            "0.071255326\n",
            "0.07031983\n",
            "0.06940467\n",
            "0.068509385\n",
            "0.06763354\n",
            "0.06677672\n",
            "0.06593851\n",
            "0.06511847\n",
            "0.06431628\n",
            "0.06353138\n",
            "0.06276356\n",
            "0.06201233\n",
            "0.06127739\n",
            "0.060558405\n",
            "0.05985494\n",
            "0.059166655\n",
            "0.058493268\n",
            "0.057834458\n",
            "0.05718987\n",
            "0.056559175\n",
            "0.05594212\n",
            "0.05533838\n",
            "0.054747656\n",
            "0.054169636\n",
            "0.053604085\n",
            "0.05305067\n",
            "0.052509204\n",
            "0.051979378\n",
            "0.051460955\n",
            "0.050953656\n",
            "0.050457254\n",
            "0.049971487\n",
            "0.049496148\n",
            "0.04903098\n",
            "0.048575815\n",
            "0.048130333\n",
            "0.04769439\n",
            "0.047267783\n",
            "0.046850305\n",
            "0.046441723\n",
            "0.04604186\n",
            "0.045650516\n",
            "0.04526748\n",
            "0.044892624\n",
            "0.044525743\n",
            "0.044166636\n",
            "0.04381515\n",
            "0.043471124\n",
            "0.043134395\n",
            "0.042804763\n",
            "0.042482156\n",
            "0.04216634\n",
            "0.041857194\n",
            "0.041554578\n",
            "0.04125831\n",
            "0.040968332\n",
            "0.040684417\n",
            "0.040406484\n",
            "0.040134393\n",
            "0.039867967\n",
            "0.03960716\n",
            "0.03935181\n",
            "0.039101776\n",
            "0.038856946\n",
            "0.038617242\n",
            "0.038382523\n",
            "0.03815269\n",
            "0.03792763\n",
            "0.037707254\n",
            "0.037491437\n",
            "0.037280075\n",
            "0.0370731\n",
            "0.0368704\n",
            "0.036671847\n",
            "0.03647739\n",
            "0.03628693\n",
            "0.036100388\n",
            "0.035917655\n",
            "0.035738643\n",
            "0.035563294\n",
            "0.03539154\n",
            "0.03522328\n",
            "0.035058435\n",
            "0.034896914\n",
            "0.034738686\n",
            "0.03458364\n",
            "0.0344317\n",
            "0.03428286\n",
            "0.034136966\n",
            "0.033994026\n",
            "0.03385393\n",
            "0.033716645\n",
            "0.03358211\n",
            "0.033450235\n",
            "0.033320975\n",
            "0.033194285\n",
            "0.033070073\n",
            "0.03294832\n",
            "0.03282896\n",
            "0.03271195\n",
            "0.032597236\n",
            "0.032484736\n",
            "0.032374453\n",
            "0.032266296\n",
            "0.03216024\n",
            "0.032056224\n",
            "0.03195423\n",
            "0.031854182\n",
            "0.03175607\n",
            "0.0316598\n",
            "0.031565372\n",
            "0.031472735\n",
            "0.031381886\n",
            "0.031292703\n",
            "0.031205209\n",
            "0.031119399\n",
            "0.03103512\n",
            "0.030952474\n",
            "0.030871317\n",
            "0.030791685\n",
            "0.030713515\n",
            "0.030636793\n",
            "0.030561464\n",
            "0.03048751\n",
            "0.030414902\n",
            "0.030343615\n",
            "0.03027361\n",
            "0.030204812\n",
            "0.030137314\n",
            "0.030070981\n",
            "0.030005835\n",
            "0.029941821\n",
            "0.029878957\n",
            "0.029817196\n",
            "0.029756473\n",
            "0.029696815\n",
            "0.029638203\n"
          ],
          "name": "stdout"
        }
      ]
    },
    {
      "cell_type": "code",
      "metadata": {
        "id": "mbW-bzNZfF8A",
        "colab_type": "code",
        "outputId": "99653895-8e61-401f-a889-1c2fd7777be6",
        "colab": {
          "base_uri": "https://localhost:8080/",
          "height": 269
        }
      },
      "source": [
        "import matplotlib.pyplot as plt\n",
        "x_axis = range(epoch)\n",
        "y_axis = list_cost\n",
        "yw_axis = list_w\n",
        "plt.plot(x_axis, y_axis)\n",
        "plt.plot(x_axis, yw_axis, color='red')\n",
        "plt.show()"
      ],
      "execution_count": 0,
      "outputs": [
        {
          "output_type": "display_data",
          "data": {
            "image/png": "[encoded data removed]",
            "text/plain": [
              "<Figure size 432x288 with 1 Axes>"
            ]
          },
          "metadata": {
            "tags": []
          }
        }
      ]
    },
    {
      "cell_type": "markdown",
      "metadata": {
        "id": "Vtj3W6bRjPT5",
        "colab_type": "text"
      },
      "source": [
        "#Red Neuronal sobre mnist"
      ]
    },
    {
      "cell_type": "code",
      "metadata": {
        "id": "S3Q44GeIiZ-0",
        "colab_type": "code",
        "outputId": "c1230694-12ef-4710-ee29-ca53801d1b13",
        "colab": {
          "base_uri": "https://localhost:8080/",
          "height": 367
        }
      },
      "source": [
        "\n",
        "import tensorflow as tf\n",
        "import numpy as np\n",
        "from tensorflow.examples.tutorials.mnist import input_data\n",
        "from sklearn.metrics import confusion_matrix\n",
        "mnist = input_data.read_data_sets(\"/tmp/data/\", one_hot=False)"
      ],
      "execution_count": 0,
      "outputs": [
        {
          "output_type": "stream",
          "text": [
            "WARNING:tensorflow:From <ipython-input-1-695c521cc8bd>:6: read_data_sets (from tensorflow.contrib.learn.python.learn.datasets.mnist) is deprecated and will be removed in a future version.\n",
            "Instructions for updating:\n",
            "Please use alternatives such as official/mnist/dataset.py from tensorflow/models.\n",
            "WARNING:tensorflow:From /usr/local/lib/python3.6/dist-packages/tensorflow/contrib/learn/python/learn/datasets/mnist.py:260: maybe_download (from tensorflow.contrib.learn.python.learn.datasets.base) is deprecated and will be removed in a future version.\n",
            "Instructions for updating:\n",
            "Please write your own downloading logic.\n",
            "WARNING:tensorflow:From /usr/local/lib/python3.6/dist-packages/tensorflow/contrib/learn/python/learn/datasets/mnist.py:262: extract_images (from tensorflow.contrib.learn.python.learn.datasets.mnist) is deprecated and will be removed in a future version.\n",
            "Instructions for updating:\n",
            "Please use tf.data to implement this functionality.\n",
            "Extracting /tmp/data/train-images-idx3-ubyte.gz\n",
            "WARNING:tensorflow:From /usr/local/lib/python3.6/dist-packages/tensorflow/contrib/learn/python/learn/datasets/mnist.py:267: extract_labels (from tensorflow.contrib.learn.python.learn.datasets.mnist) is deprecated and will be removed in a future version.\n",
            "Instructions for updating:\n",
            "Please use tf.data to implement this functionality.\n",
            "Extracting /tmp/data/train-labels-idx1-ubyte.gz\n",
            "Extracting /tmp/data/t10k-images-idx3-ubyte.gz\n",
            "Extracting /tmp/data/t10k-labels-idx1-ubyte.gz\n",
            "WARNING:tensorflow:From /usr/local/lib/python3.6/dist-packages/tensorflow/contrib/learn/python/learn/datasets/mnist.py:290: DataSet.__init__ (from tensorflow.contrib.learn.python.learn.datasets.mnist) is deprecated and will be removed in a future version.\n",
            "Instructions for updating:\n",
            "Please use alternatives such as official/mnist/dataset.py from tensorflow/models.\n"
          ],
          "name": "stdout"
        }
      ]
    },
    {
      "cell_type": "code",
      "metadata": {
        "id": "BAaU0tAMeTqL",
        "colab_type": "code",
        "colab": {}
      },
      "source": [
        "import matplotlib.pyplot as plt"
      ],
      "execution_count": 0,
      "outputs": []
    },
    {
      "cell_type": "code",
      "metadata": {
        "id": "LYmsDRsUj4tc",
        "colab_type": "code",
        "outputId": "6fb1566c-e839-4b27-9ca6-1dd422189a16",
        "colab": {
          "base_uri": "https://localhost:8080/",
          "height": 52
        }
      },
      "source": [
        "print(len(mnist.train.labels))\n",
        "print(len(mnist.test.labels))"
      ],
      "execution_count": 0,
      "outputs": [
        {
          "output_type": "stream",
          "text": [
            "55000\n",
            "10000\n"
          ],
          "name": "stdout"
        }
      ]
    },
    {
      "cell_type": "code",
      "metadata": {
        "id": "tMO38_SSktKg",
        "colab_type": "code",
        "colab": {}
      },
      "source": [
        "IMG_SIZE = 28\n",
        "IMG_SIZE_FLAT = IMG_SIZE * IMG_SIZE # imagen aplanada en un vector\n",
        "IMG_SHAPE = (IMG_SIZE, IMG_SIZE)\n",
        "NUM_CLASSES = 10"
      ],
      "execution_count": 0,
      "outputs": []
    },
    {
      "cell_type": "code",
      "metadata": {
        "id": "keULH7qhlIsD",
        "colab_type": "code",
        "colab": {}
      },
      "source": [
        "def plot_images(images, labels, labels_pred=None):\n",
        "  fig, axes = plt.subplots(3,3) # lienzo de 3x3\n",
        "  for i, ax in enumerate(axes.flat):\n",
        "    ax.imshow(images[i].reshape(IMG_SHAPE), cmap='gray') # hace el reshape de 28x28\n",
        "    if labels_pred is None:\n",
        "      xlabel = \"True: {0}\".format(labels[i])\n",
        "    else:\n",
        "      xlabel = \"True: {0}, Pred: {1}\".format(labels[i], labels_pred[i])\n",
        "    ax.set_xlabel(xlabel)\n",
        "    # Remove ticks from the plot\n",
        "    ax.set_xticks([])\n",
        "    ax.set_yticks([])"
      ],
      "execution_count": 0,
      "outputs": []
    },
    {
      "cell_type": "code",
      "metadata": {
        "id": "38niT-ZHngGJ",
        "colab_type": "code",
        "outputId": "6bb8f482-5f65-40c8-b893-ab18d44ed36b",
        "colab": {
          "base_uri": "https://localhost:8080/",
          "height": 266
        }
      },
      "source": [
        "images = mnist.test.images[:9]\n",
        "labels = mnist.test.labels[:9]\n",
        "plot_images(images, labels)"
      ],
      "execution_count": 0,
      "outputs": [
        {
          "output_type": "display_data",
          "data": {
            "image/png": "[encoded data removed]",
            "text/plain": [
              "<Figure size 432x288 with 9 Axes>"
            ]
          },
          "metadata": {
            "tags": []
          }
        }
      ]
    },
    {
      "cell_type": "code",
      "metadata": {
        "id": "ZPM9XosXnyf0",
        "colab_type": "code",
        "outputId": "69da00bc-c1c9-4387-8477-83ede1ac6b06",
        "colab": {
          "base_uri": "https://localhost:8080/",
          "height": 89
        }
      },
      "source": [
        "x = tf.placeholder(shape=[None, IMG_SIZE_FLAT], dtype=tf.float32) # none porque mandare mas de una muestra, y la dimension de la imagen\n",
        "y_true = tf.placeholder(shape=[None], dtype=tf.int64)\n",
        "\n",
        "W = tf.Variable(tf.zeros([IMG_SIZE_FLAT, NUM_CLASSES]), dtype=tf.float32)\n",
        "b = tf.Variable(tf.zeros([NUM_CLASSES]), dtype=tf.float32)\n",
        "\n",
        "\n",
        "# Definicion de Proceso\n",
        "logits = tf.matmul(x, W) + b\n",
        "activation = tf.nn.softmax(logits)\n",
        "\n",
        "# tf.argmax \n",
        "# [[1,2,3,4], [5,6,7,2], [8,9,2,3]] shape (3,4)\n",
        "# axis 1 = [3,2,1]\n",
        "# axis 2 = [2, 2, 1, 0]\n",
        "# argmax: te trae el promedio por cada muestra dependiendo del axis para axis = 0, va comparar elemento por elemento y el resultado va tener len del shape en el indice 1, el maximo entre columnas de las muestras.\n",
        "# caso contrario para el axis = 1, la maxima muestra\n",
        "\n",
        "y_pred = tf.argmax(activation, axis=1)\n",
        "\n",
        "\n",
        "# Entrenamiento\n",
        "one_hot = tf.cast(tf.one_hot(y_true, depth=NUM_CLASSES), dtype=tf.float32) # genera one hot correspondiente para cada muestra\n",
        "cost_function = tf.nn.softmax_cross_entropy_with_logits_v2(logits=logits, labels=one_hot)\n",
        "\n",
        "# Cost function\n",
        "cost = tf.reduce_mean(cost_function)\n",
        "optimizer = tf.train.GradientDescentOptimizer(learning_rate=0.01).minimize(cost)"
      ],
      "execution_count": 0,
      "outputs": [
        {
          "output_type": "stream",
          "text": [
            "WARNING:tensorflow:From /usr/local/lib/python3.6/dist-packages/tensorflow/python/framework/op_def_library.py:263: colocate_with (from tensorflow.python.framework.ops) is deprecated and will be removed in a future version.\n",
            "Instructions for updating:\n",
            "Colocations handled automatically by placer.\n"
          ],
          "name": "stdout"
        }
      ]
    },
    {
      "cell_type": "code",
      "metadata": {
        "id": "VVSk1XNvpzfM",
        "colab_type": "code",
        "colab": {}
      },
      "source": [
        "# Evaluate\n",
        "correct_prediction = tf.equal(y_true, y_pred) # booleanos true, false\n",
        "accuracy = tf.reduce_mean(tf.cast(correct_prediction, dtype=tf.float32)) # booleanos a float para obtner el promedio"
      ],
      "execution_count": 0,
      "outputs": []
    },
    {
      "cell_type": "code",
      "metadata": {
        "id": "co16WYcmskTz",
        "colab_type": "code",
        "colab": {}
      },
      "source": [
        "# batch of images\n",
        "batch_size = 100\n",
        "\n",
        "sess = tf.Session() # queda abierto la session por lo que se debe cerrar despues\n",
        "sess.run(tf.global_variables_initializer())\n",
        "\n",
        "def train(num_iterations):\n",
        "  for i in range(num_iterations):\n",
        "    x_batch, y_true_batch = mnist.train.next_batch(batch_size)\n",
        "    sess.run(optimizer, feed_dict={x: x_batch, y_true: y_true_batch})\n",
        "    \n",
        "def test():\n",
        "  feed_dict_test = {x: mnist.test.images, y_true: mnist.test.labels}\n",
        "  acc = sess.run(accuracy, feed_dict=feed_dict_test)\n",
        "  print(\"Accuracy on test-set: {0:1.}%\".format(acc))"
      ],
      "execution_count": 0,
      "outputs": []
    },
    {
      "cell_type": "code",
      "metadata": {
        "id": "NhxmfRtWwyT7",
        "colab_type": "code",
        "colab": {}
      },
      "source": [
        "def print_confusion_matrix():\n",
        "  cls_true = mnist.test.labels\n",
        "  # Get the predicted classifications\n",
        "  feed_dict_test = {x: mnist.test.images, y_true: mnist.test.labels}\n",
        "  cls_pred = sess.run(y_pred, feed_dict=feed_dict_test)\n",
        "  cm = confusion_matrix(y_true=cls_true, y_pred=cls_pred)\n",
        "  print(cm)\n",
        "  # Plot confusion as image\n",
        "  plt.imshow(cm, interpolation='nearest', cmap=plt.cm.Blues)\n",
        "  plt.tight_layout()\n",
        "  plt.colorbar()\n",
        "  tick_marks = np.arange(NUM_CLASSES)\n",
        "  plt.xticks(tick_marks, range(NUM_CLASSES))\n",
        "  plt.yticks(tick_marks, range(NUM_CLASSES))\n",
        "  plt.xlabel('Predicted')\n",
        "  plt.ylabel('True')"
      ],
      "execution_count": 0,
      "outputs": []
    },
    {
      "cell_type": "code",
      "metadata": {
        "id": "ODWwWZG1zL_I",
        "colab_type": "code",
        "colab": {}
      },
      "source": [
        "def plot_weights():\n",
        "  wi = sess.run(W)\n",
        "  w_min = np.min(wi)\n",
        "  w_max = np.max(wi)\n",
        "  fig, axes = plt.subplots(3, 4)\n",
        "  fig.subplots_adjust(hspace=0.3, wspace=0.3)\n",
        "  for i, ax in enumerate(axes.flat):\n",
        "    if i < 10:\n",
        "      image = wi[:,i].reshape(IMG_SHAPE)\n",
        "      ax.set_xlabel(\"Weights: {0}\".format(i))\n",
        "      ax.imshow(image, vmin=w_min, vmax=w_max, cmap='seismic')\n",
        "    ax.set_xticks([])\n",
        "    ax.set_yticks([])"
      ],
      "execution_count": 0,
      "outputs": []
    },
    {
      "cell_type": "code",
      "metadata": {
        "id": "Y8UqRbDc0Gm_",
        "colab_type": "code",
        "outputId": "65d96f29-3fee-43c6-df12-87f4a6a96070",
        "colab": {
          "base_uri": "https://localhost:8080/",
          "height": 252
        }
      },
      "source": [
        "test()"
      ],
      "execution_count": 0,
      "outputs": [
        {
          "output_type": "error",
          "ename": "ValueError",
          "evalue": "ignored",
          "traceback": [
            "\u001b[0;31m---------------------------------------------------------------------------\u001b[0m",
            "\u001b[0;31mValueError\u001b[0m                                Traceback (most recent call last)",
            "\u001b[0;32m<ipython-input-32-fbd55f77ab7c>\u001b[0m in \u001b[0;36m<module>\u001b[0;34m()\u001b[0m\n\u001b[0;32m----> 1\u001b[0;31m \u001b[0mtest\u001b[0m\u001b[0;34m(\u001b[0m\u001b[0;34m)\u001b[0m\u001b[0;34m\u001b[0m\u001b[0;34m\u001b[0m\u001b[0m\n\u001b[0m",
            "\u001b[0;32m<ipython-input-29-d4095b119ad4>\u001b[0m in \u001b[0;36mtest\u001b[0;34m()\u001b[0m\n\u001b[1;32m     12\u001b[0m   \u001b[0mfeed_dict_test\u001b[0m \u001b[0;34m=\u001b[0m \u001b[0;34m{\u001b[0m\u001b[0mx\u001b[0m\u001b[0;34m:\u001b[0m \u001b[0mmnist\u001b[0m\u001b[0;34m.\u001b[0m\u001b[0mtest\u001b[0m\u001b[0;34m.\u001b[0m\u001b[0mimages\u001b[0m\u001b[0;34m,\u001b[0m \u001b[0my_true\u001b[0m\u001b[0;34m:\u001b[0m \u001b[0mmnist\u001b[0m\u001b[0;34m.\u001b[0m\u001b[0mtest\u001b[0m\u001b[0;34m.\u001b[0m\u001b[0mlabels\u001b[0m\u001b[0;34m}\u001b[0m\u001b[0;34m\u001b[0m\u001b[0;34m\u001b[0m\u001b[0m\n\u001b[1;32m     13\u001b[0m   \u001b[0macc\u001b[0m \u001b[0;34m=\u001b[0m \u001b[0msess\u001b[0m\u001b[0;34m.\u001b[0m\u001b[0mrun\u001b[0m\u001b[0;34m(\u001b[0m\u001b[0maccuracy\u001b[0m\u001b[0;34m,\u001b[0m \u001b[0mfeed_dict\u001b[0m\u001b[0;34m=\u001b[0m\u001b[0mfeed_dict_test\u001b[0m\u001b[0;34m)\u001b[0m\u001b[0;34m\u001b[0m\u001b[0;34m\u001b[0m\u001b[0m\n\u001b[0;32m---> 14\u001b[0;31m   \u001b[0mprint\u001b[0m\u001b[0;34m(\u001b[0m\u001b[0;34m\"Accuracy on test-set: {0:1.}%\"\u001b[0m\u001b[0;34m.\u001b[0m\u001b[0mformat\u001b[0m\u001b[0;34m(\u001b[0m\u001b[0macc\u001b[0m\u001b[0;34m)\u001b[0m\u001b[0;34m)\u001b[0m\u001b[0;34m\u001b[0m\u001b[0;34m\u001b[0m\u001b[0m\n\u001b[0m",
            "\u001b[0;31mValueError\u001b[0m: Format specifier missing precision"
          ]
        }
      ]
    },
    {
      "cell_type": "code",
      "metadata": {
        "id": "CdACuDIp03G6",
        "colab_type": "code",
        "colab": {}
      },
      "source": [
        "train(200)"
      ],
      "execution_count": 0,
      "outputs": []
    },
    {
      "cell_type": "code",
      "metadata": {
        "id": "u80uOPQe06hF",
        "colab_type": "code",
        "outputId": "e17f216f-293a-437c-ad98-147ae79afa53",
        "colab": {
          "base_uri": "https://localhost:8080/",
          "height": 252
        }
      },
      "source": [
        "test()"
      ],
      "execution_count": 0,
      "outputs": [
        {
          "output_type": "error",
          "ename": "ValueError",
          "evalue": "ignored",
          "traceback": [
            "\u001b[0;31m---------------------------------------------------------------------------\u001b[0m",
            "\u001b[0;31mValueError\u001b[0m                                Traceback (most recent call last)",
            "\u001b[0;32m<ipython-input-34-fbd55f77ab7c>\u001b[0m in \u001b[0;36m<module>\u001b[0;34m()\u001b[0m\n\u001b[0;32m----> 1\u001b[0;31m \u001b[0mtest\u001b[0m\u001b[0;34m(\u001b[0m\u001b[0;34m)\u001b[0m\u001b[0;34m\u001b[0m\u001b[0;34m\u001b[0m\u001b[0m\n\u001b[0m",
            "\u001b[0;32m<ipython-input-29-d4095b119ad4>\u001b[0m in \u001b[0;36mtest\u001b[0;34m()\u001b[0m\n\u001b[1;32m     12\u001b[0m   \u001b[0mfeed_dict_test\u001b[0m \u001b[0;34m=\u001b[0m \u001b[0;34m{\u001b[0m\u001b[0mx\u001b[0m\u001b[0;34m:\u001b[0m \u001b[0mmnist\u001b[0m\u001b[0;34m.\u001b[0m\u001b[0mtest\u001b[0m\u001b[0;34m.\u001b[0m\u001b[0mimages\u001b[0m\u001b[0;34m,\u001b[0m \u001b[0my_true\u001b[0m\u001b[0;34m:\u001b[0m \u001b[0mmnist\u001b[0m\u001b[0;34m.\u001b[0m\u001b[0mtest\u001b[0m\u001b[0;34m.\u001b[0m\u001b[0mlabels\u001b[0m\u001b[0;34m}\u001b[0m\u001b[0;34m\u001b[0m\u001b[0;34m\u001b[0m\u001b[0m\n\u001b[1;32m     13\u001b[0m   \u001b[0macc\u001b[0m \u001b[0;34m=\u001b[0m \u001b[0msess\u001b[0m\u001b[0;34m.\u001b[0m\u001b[0mrun\u001b[0m\u001b[0;34m(\u001b[0m\u001b[0maccuracy\u001b[0m\u001b[0;34m,\u001b[0m \u001b[0mfeed_dict\u001b[0m\u001b[0;34m=\u001b[0m\u001b[0mfeed_dict_test\u001b[0m\u001b[0;34m)\u001b[0m\u001b[0;34m\u001b[0m\u001b[0;34m\u001b[0m\u001b[0m\n\u001b[0;32m---> 14\u001b[0;31m   \u001b[0mprint\u001b[0m\u001b[0;34m(\u001b[0m\u001b[0;34m\"Accuracy on test-set: {0:1.}%\"\u001b[0m\u001b[0;34m.\u001b[0m\u001b[0mformat\u001b[0m\u001b[0;34m(\u001b[0m\u001b[0macc\u001b[0m\u001b[0;34m)\u001b[0m\u001b[0;34m)\u001b[0m\u001b[0;34m\u001b[0m\u001b[0;34m\u001b[0m\u001b[0m\n\u001b[0m",
            "\u001b[0;31mValueError\u001b[0m: Format specifier missing precision"
          ]
        }
      ]
    },
    {
      "cell_type": "code",
      "metadata": {
        "id": "Kx6A9N3307eA",
        "colab_type": "code",
        "outputId": "a073ef50-d95a-4ee8-878d-4ed8f379373d",
        "colab": {
          "base_uri": "https://localhost:8080/",
          "height": 485
        }
      },
      "source": [
        "print_confusion_matrix()"
      ],
      "execution_count": 0,
      "outputs": [
        {
          "output_type": "stream",
          "text": [
            "[[ 941    0    6    5    0    0   19    1    8    0]\n",
            " [   0 1090   16    3    0    0    4    1   21    0]\n",
            " [  29   48  824   26   20    0   29   22   34    0]\n",
            " [   9    9   30  870    1    5    8   24   42   12]\n",
            " [   5   17    7    0  836    0   26    4   14   73]\n",
            " [  57   44   20  192   34  392   36   40   54   23]\n",
            " [  37   16   22    2    9   12  855    0    5    0]\n",
            " [  10   54   33    0   10    0    2  885    7   27]\n",
            " [  22   42   23   82   11    7   20   21  730   16]\n",
            " [  27   23   13   13  107    1    3   63   16  743]]\n"
          ],
          "name": "stdout"
        },
        {
          "output_type": "display_data",
          "data": {
            "image/png": "[encoded data removed]",
            "text/plain": [
              "<Figure size 432x288 with 2 Axes>"
            ]
          },
          "metadata": {
            "tags": []
          }
        }
      ]
    },
    {
      "cell_type": "markdown",
      "metadata": {
        "id": "phUdHjULh0nY",
        "colab_type": "text"
      },
      "source": [
        "Rojo: Pesos mas activos\n",
        "Azul:     mas cerrados\n"
      ]
    },
    {
      "cell_type": "code",
      "metadata": {
        "id": "1LaHfVFd1AfN",
        "colab_type": "code",
        "outputId": "18e164eb-784d-4312-faf4-055998690851",
        "colab": {
          "base_uri": "https://localhost:8080/",
          "height": 266
        }
      },
      "source": [
        "plot_weights()"
      ],
      "execution_count": 0,
      "outputs": [
        {
          "output_type": "display_data",
          "data": {
            "image/png": "[encoded data removed]",
            "text/plain": [
              "<Figure size 432x288 with 12 Axes>"
            ]
          },
          "metadata": {
            "tags": []
          }
        }
      ]
    },
    {
      "cell_type": "code",
      "metadata": {
        "id": "OrtoZuGPhl0J",
        "colab_type": "code",
        "colab": {}
      },
      "source": [
        ""
      ],
      "execution_count": 0,
      "outputs": []
    }
  ]
}