{
  "nbformat": 4,
  "nbformat_minor": 0,
  "metadata": {
    "colab": {
      "name": "SkipGram.ipynb",
      "version": "0.3.2",
      "provenance": [],
      "collapsed_sections": []
    },
    "kernelspec": {
      "name": "python3",
      "display_name": "Python 3"
    }
  },
  "cells": [
    {
      "metadata": {
        "id": "LtQN0f_dxhtD",
        "colab_type": "text"
      },
      "cell_type": "markdown",
      "source": [
        "#SkipGram Model\n",
        "\n",
        "El modelo SkipGram es una red neuronal con una sola capa escondida. El principal objetivo de este modelo es entrenar los pesos de la red, ya que estas representarán los vectores de palabras que estamos tratando de aprender.\n",
        "\n",
        "Esta red toma un conjunto preferentemente grande de sentencias y se entrena de la siguiente forma:\n",
        "\n",
        "\n",
        "1.   Recorremos el conjunto de sentencias palabra por palabra. Tomamos una palabra específica de la sentencia y la llamamos palabra central.\n",
        "\n",
        "\n",
        "*   $\\textbf{Las}$ rosas rojas estan floreciendo.\n",
        "*   Las $\\textbf{rosas}$ rojas estan floreciendo.\n",
        "*   Las rosas $\\textbf{rojas}$ estan floreciendo.\n",
        "\n",
        "\n",
        "2.   Definimos un valor de $\\textit{window size}=k$. Para cada palabra central escogemos las palabras aleatoriamente las palabras que están a la derecha e izquierda en $k$ pasos, estas palabras son llamadas palabras de contexto.\n",
        "\n",
        "\n",
        ">   Por ejemplo, para la palabra $\\textbf{rosas}$, si tenemos un $\\textit{window size} = 2$\n",
        "*  $\\textbf{Las}$ rosas $\\textbf{rojas}$ $\\textbf{estan}$ floreciendo.\n",
        "\n",
        "> Nuestra lista de dados para esta sentencia es:\n",
        "*   rosas las\n",
        "*   rosas rojas\n",
        "*   rosas están\n",
        "\n",
        "3.   La red neuronal va calcular la probabilidad de cada palabra en nuestro vocabulario sea la palabra de contexto que escogimos teniendo como entrada a la red nuestra palabra central.\n",
        "\n",
        "De acuerdo a cada par de palabras la red aprende el número de veces que ocurre cada par en la etapa de entrenamiento. Por ejemplo, el par \"New York\" es mas probable a aparecer que \"New Yersey\". Entonces cuando el entrenamiento se termina si la palabra de entrada es \"New\" salida tendrá una probabilidad mas alta para \"York\" que \"Yersey\".\n",
        "\n",
        "##Ejemplo con Pytorch\n",
        "\n",
        "Primero vamos a crear un corpus pequeño."
      ]
    },
    {
      "metadata": {
        "id": "wNP0TEbcJaBF",
        "colab_type": "code",
        "colab": {}
      },
      "cell_type": "code",
      "source": [
        "# http://pytorch.org/\n",
        "from os.path import exists\n",
        "from wheel.pep425tags import get_abbr_impl, get_impl_ver, get_abi_tag\n",
        "platform = '{}{}-{}'.format(get_abbr_impl(), get_impl_ver(), get_abi_tag())\n",
        "cuda_output = !ldconfig -p|grep cudart.so|sed -e 's/.*\\.\\([0-9]*\\)\\.\\([0-9]*\\)$/cu\\1\\2/'\n",
        "accelerator = cuda_output[0] if exists('/dev/nvidia0') else 'cpu'\n",
        "\n",
        "!pip install -q http://download.pytorch.org/whl/{accelerator}/torch-0.4.1-{platform}-linux_x86_64.whl torchvision\n",
        "import torch"
      ],
      "execution_count": 0,
      "outputs": []
    },
    {
      "metadata": {
        "id": "dkyGe_X_CoFK",
        "colab_type": "code",
        "colab": {}
      },
      "cell_type": "code",
      "source": [
        "import torch\n",
        "from torch.optim import SGD\n",
        "from torch.autograd import Variable, profiler\n",
        "import numpy as np\n",
        "import torch.functional as F\n",
        "import torch.nn.functional as F"
      ],
      "execution_count": 0,
      "outputs": []
    },
    {
      "metadata": {
        "id": "gp_eDRXDwfD3",
        "colab_type": "code",
        "colab": {}
      },
      "cell_type": "code",
      "source": [
        "corpus = [\n",
        "    \"he is a king\",\n",
        "    \"she is a queen\",\n",
        "    \"she is a woman\",\n",
        "    \"he is a man\",\n",
        "    \"warsaw is poland capital\",\n",
        "    \"berlin is germany capital\",\n",
        "    \"paris is france capital\",\n",
        "]"
      ],
      "execution_count": 0,
      "outputs": []
    },
    {
      "metadata": {
        "id": "snnKS0Y8xsZW",
        "colab_type": "text"
      },
      "cell_type": "markdown",
      "source": [
        "##Paso 1: Creamos el vocabulario\n",
        "Nuestro vocabulario es una lista de palabras únicas con su respectivo indice.\n"
      ]
    },
    {
      "metadata": {
        "id": "gFLeJZ3JyrSi",
        "colab_type": "code",
        "colab": {}
      },
      "cell_type": "code",
      "source": [
        "def tokenize_corpus(corpus):\n",
        "  tokens = [x.split() for x in corpus]\n",
        "  return tokens\n",
        "\n",
        "tokenized_corpus = tokenize_corpus(corpus)"
      ],
      "execution_count": 0,
      "outputs": []
    },
    {
      "metadata": {
        "id": "zz8oUtjXzFV5",
        "colab_type": "text"
      },
      "cell_type": "markdown",
      "source": [
        "Generamos una lista de tokens, y creamos dos diccionarios para mapear las palabras y sus indices."
      ]
    },
    {
      "metadata": {
        "id": "nvv3M_key5Tp",
        "colab_type": "code",
        "colab": {
          "base_uri": "https://localhost:8080/",
          "height": 139
        },
        "outputId": "52b9220e-950c-4bf5-fd51-7d96ecc8e515"
      },
      "cell_type": "code",
      "source": [
        "tokenized_corpus"
      ],
      "execution_count": 40,
      "outputs": [
        {
          "output_type": "execute_result",
          "data": {
            "text/plain": [
              "[['he', 'is', 'a', 'king'],\n",
              " ['she', 'is', 'a', 'queen'],\n",
              " ['she', 'is', 'a', 'woman'],\n",
              " ['he', 'is', 'a', 'man'],\n",
              " ['warsaw', 'is', 'poland', 'capital'],\n",
              " ['berlin', 'is', 'germany', 'capital'],\n",
              " ['paris', 'is', 'france', 'capital']]"
            ]
          },
          "metadata": {
            "tags": []
          },
          "execution_count": 40
        }
      ]
    },
    {
      "metadata": {
        "id": "yMkv_d8pznaa",
        "colab_type": "code",
        "colab": {}
      },
      "cell_type": "code",
      "source": [
        "vocabulary = []\n",
        "for sentence in tokenized_corpus:\n",
        "  for token in sentence:\n",
        "    if token not in vocabulary:\n",
        "      vocabulary.append(token)\n",
        "word2idx = {w: idx for (idx, w) in enumerate(vocabulary)}\n",
        "idx2word = {idx: w for (idx, w) in enumerate(vocabulary)}\n",
        "vocabulary_size = len(vocabulary)"
      ],
      "execution_count": 0,
      "outputs": []
    },
    {
      "metadata": {
        "id": "d0aaO4_hzoLF",
        "colab_type": "code",
        "colab": {
          "base_uri": "https://localhost:8080/",
          "height": 278
        },
        "outputId": "e977e341-289a-443a-e9d3-e68b92d09eea"
      },
      "cell_type": "code",
      "source": [
        "idx2word"
      ],
      "execution_count": 42,
      "outputs": [
        {
          "output_type": "execute_result",
          "data": {
            "text/plain": [
              "{0: 'he',\n",
              " 1: 'is',\n",
              " 2: 'a',\n",
              " 3: 'king',\n",
              " 4: 'she',\n",
              " 5: 'queen',\n",
              " 6: 'woman',\n",
              " 7: 'man',\n",
              " 8: 'warsaw',\n",
              " 9: 'poland',\n",
              " 10: 'capital',\n",
              " 11: 'berlin',\n",
              " 12: 'germany',\n",
              " 13: 'paris',\n",
              " 14: 'france'}"
            ]
          },
          "metadata": {
            "tags": []
          },
          "execution_count": 42
        }
      ]
    },
    {
      "metadata": {
        "id": "95E8Ys9d1lFN",
        "colab_type": "text"
      },
      "cell_type": "markdown",
      "source": [
        "## Paso 2: Generamos pares \n",
        "\n",
        "Dado un window size (k). Donde el primer elemento es la palabra central y el segundo elemento es la palabra de contexto, es decir la palabra adyacente en k pasos  a la izquierda y derecha de la palabra central.\n"
      ]
    },
    {
      "metadata": {
        "id": "MGbqxL-e271W",
        "colab_type": "code",
        "colab": {}
      },
      "cell_type": "code",
      "source": [
        "window_size = 2\n",
        "idx_pairs = []\n",
        "for sentence in tokenized_corpus:\n",
        "  indices = [word2idx[word] for word in sentence]\n",
        "  for center_word_pos in range(len(indices)):\n",
        "    for w in range(-window_size, window_size + 1):\n",
        "      context_word_pos = center_word_pos + w\n",
        "      if context_word_pos < 0 or context_word_pos >= len(indices) or center_word_pos == context_word_pos:\n",
        "        continue\n",
        "      context_word_idx = indices[context_word_pos]\n",
        "      idx_pairs.append((indices[center_word_pos], context_word_idx))\n",
        "  \n",
        "idx_pairs = np.array(idx_pairs)"
      ],
      "execution_count": 0,
      "outputs": []
    },
    {
      "metadata": {
        "id": "drcbBtu9F8wd",
        "colab_type": "code",
        "colab": {}
      },
      "cell_type": "code",
      "source": [
        "pairwords = [idx2word[pair[0]] + \" \" + idx2word[pair[1]] for pair in idx_pairs]"
      ],
      "execution_count": 0,
      "outputs": []
    },
    {
      "metadata": {
        "id": "iK7kUnssGGeI",
        "colab_type": "code",
        "colab": {
          "base_uri": "https://localhost:8080/",
          "height": 1233
        },
        "outputId": "abd6587a-695d-4a99-ffb1-129f1f1c4bce"
      },
      "cell_type": "code",
      "source": [
        "pairwords"
      ],
      "execution_count": 45,
      "outputs": [
        {
          "output_type": "execute_result",
          "data": {
            "text/plain": [
              "['he is',\n",
              " 'he a',\n",
              " 'is he',\n",
              " 'is a',\n",
              " 'is king',\n",
              " 'a he',\n",
              " 'a is',\n",
              " 'a king',\n",
              " 'king is',\n",
              " 'king a',\n",
              " 'she is',\n",
              " 'she a',\n",
              " 'is she',\n",
              " 'is a',\n",
              " 'is queen',\n",
              " 'a she',\n",
              " 'a is',\n",
              " 'a queen',\n",
              " 'queen is',\n",
              " 'queen a',\n",
              " 'she is',\n",
              " 'she a',\n",
              " 'is she',\n",
              " 'is a',\n",
              " 'is woman',\n",
              " 'a she',\n",
              " 'a is',\n",
              " 'a woman',\n",
              " 'woman is',\n",
              " 'woman a',\n",
              " 'he is',\n",
              " 'he a',\n",
              " 'is he',\n",
              " 'is a',\n",
              " 'is man',\n",
              " 'a he',\n",
              " 'a is',\n",
              " 'a man',\n",
              " 'man is',\n",
              " 'man a',\n",
              " 'warsaw is',\n",
              " 'warsaw poland',\n",
              " 'is warsaw',\n",
              " 'is poland',\n",
              " 'is capital',\n",
              " 'poland warsaw',\n",
              " 'poland is',\n",
              " 'poland capital',\n",
              " 'capital is',\n",
              " 'capital poland',\n",
              " 'berlin is',\n",
              " 'berlin germany',\n",
              " 'is berlin',\n",
              " 'is germany',\n",
              " 'is capital',\n",
              " 'germany berlin',\n",
              " 'germany is',\n",
              " 'germany capital',\n",
              " 'capital is',\n",
              " 'capital germany',\n",
              " 'paris is',\n",
              " 'paris france',\n",
              " 'is paris',\n",
              " 'is france',\n",
              " 'is capital',\n",
              " 'france paris',\n",
              " 'france is',\n",
              " 'france capital',\n",
              " 'capital is',\n",
              " 'capital france']"
            ]
          },
          "metadata": {
            "tags": []
          },
          "execution_count": 45
        }
      ]
    },
    {
      "metadata": {
        "id": "IVwcHV2HJEVy",
        "colab_type": "text"
      },
      "cell_type": "markdown",
      "source": [
        "##Skip-Gram\n",
        "Predecimos la probabilidad de la palabra contexto dado la palabra central. La distribución de probabilidad para un par es:\n",
        "$$P(context|center;\\theta)$$\n",
        "Ejemplo:\n",
        "$$P(king|is)$$\n",
        "Maximizando todo para todos los pares tenemos:\n",
        "$$max\\prod_{center}\\prod_{context}{P(context|center;\\theta)}$$\n",
        "\n",
        "###Paso 1: Reemplazamos la probabilidad con Negative Log Likelihood.\n",
        "$$\\min_{\\theta} - log\\prod_{center}\\prod_{context}P(context|center, \\theta)$$\n",
        "###Paso 2: Reemplazamos los productos con sumas usando $log(a.b) = log{a} + log{b}$ y dividimos por el numero de pares $(T)$:\n",
        "$$loss = -\\frac{1}{T}\\sum_{center}\\sum_{context}logP(context|center,\\theta)$$\n",
        "##Probabilidad Softmax\n",
        "Si asumimos que cada palabra es un vector, tenemos el vector de la palabra central $v$ y el vector de la palabra de contexto $u$. \n",
        "\n",
        "$$P(context|center) = \\frac{exp(u^{T}_{context}v_{center})}{\\sum\\limits_{w \\in \\text{vocab}} exp(u_{w}^{T}v_{center})}$$\n",
        "\n",
        "Para cada palabra central y la palabra contexto candidata en el vocabulario calculamos su similaridad ($u_{context}^Tv_{center}$) y dividimos por la suma de la similaridad de cada palabra del vocabulario con la palabra central.\n",
        "\n"
      ]
    },
    {
      "metadata": {
        "id": "kw-LtIym_S8c",
        "colab_type": "text"
      },
      "cell_type": "markdown",
      "source": [
        "## Red Neuronal\n",
        "### Capa de Entrada\n",
        "Cada palabra central es representada con un vector de entrada llamado $\\textit{one-hot}$ de dimension $[1, vocabulary\\_size]$, que guarda el valor de $1$ en la posición correspondiente a su indice en el vocabulario y $0$s en el resto de posiciones."
      ]
    },
    {
      "metadata": {
        "id": "ud4IpyN9_oUf",
        "colab_type": "code",
        "colab": {}
      },
      "cell_type": "code",
      "source": [
        "def get_input_layer(word_idx):\n",
        "  x = torch.zeros(vocabulary_size).float()\n",
        "  x[word_idx] = 1.0\n",
        "  return x"
      ],
      "execution_count": 0,
      "outputs": []
    },
    {
      "metadata": {
        "id": "RMjp78OAAebT",
        "colab_type": "text"
      },
      "cell_type": "markdown",
      "source": [
        "##Capa Escondida\n",
        "Se construye una matriz aleatoria $W1$ de dimensión $[embedding\\_dims, vocabulary\\_size]$.\n",
        "No hay una función de activación en la capa escondida. Mas bien de acuerdo a la forma del vector one-hot el producto con esta matriz se convierte en una operacion de lookup. Es decir, si la posicion del valor $1$ en el vector one-hot de la palabra es $i$, se extrae la fila $i$. \n"
      ]
    },
    {
      "metadata": {
        "id": "9JuF1DmIHiTx",
        "colab_type": "text"
      },
      "cell_type": "markdown",
      "source": [
        "##Capa de Salida\n",
        "Esta capa debe tener $vocabulary\\_size$ neuronas porque se genera una probabilidad de que la palabra escogida aleatoriamente sea una palabra del contexto de la palabra de entrada. Además, $W2$ tiene $[vocabulary\\_size, embedding\\_dims]$ de dimensión.\n"
      ]
    },
    {
      "metadata": {
        "id": "mpD-IM2M_uEu",
        "colab_type": "code",
        "colab": {
          "base_uri": "https://localhost:8080/",
          "height": 228
        },
        "outputId": "452dce17-64b2-4982-b95b-0c7480b34d50"
      },
      "cell_type": "code",
      "source": [
        "embedding_dims = 5\n",
        "# matriz inicial random d*v\n",
        "W1 = Variable(torch.randn(embedding_dims, vocabulary_size).float(), requires_grad=True)\n",
        "W2 = Variable(torch.randn(vocabulary_size, embedding_dims).float(), requires_grad=True)\n",
        "num_epochs = 100\n",
        "learning_rate = 0.001\n",
        "for epo in range(num_epochs):\n",
        "  loss_val = 0\n",
        "  for data, target in idx_pairs:\n",
        "    x = Variable(get_input_layer(data)).float()\n",
        "    y_true = Variable(torch.from_numpy(np.array([target])).long())\n",
        "    \n",
        "    # Capa escondida\n",
        "    z1 = torch.matmul(W1, x)\n",
        "    \n",
        "    # Capa de salida\n",
        "    z2 = torch.matmul(W2, z1)\n",
        "    \n",
        "    log_softmax = F.log_softmax(z2, dim=0)\n",
        "    \n",
        "    loss = F.nll_loss(log_softmax.view(1,-1), y_true)\n",
        "    loss_val += loss.data[0]\n",
        "    loss.backward()\n",
        "    W1.data -= learning_rate * W1.grad.data\n",
        "    W2.data -= learning_rate * W2.grad.data\n",
        "    \n",
        "    W1.grad.data.zero_()\n",
        "    W2.grad.data.zero_()\n",
        "  if epo % 10 == 0:\n",
        "    print(f'Loss at epo {epo}: {loss_val/len(idx_pairs)}')"
      ],
      "execution_count": 47,
      "outputs": [
        {
          "output_type": "stream",
          "text": [
            "/usr/local/lib/python3.6/dist-packages/ipykernel_launcher.py:22: UserWarning: invalid index of a 0-dim tensor. This will be an error in PyTorch 0.5. Use tensor.item() to convert a 0-dim tensor to a Python number\n"
          ],
          "name": "stderr"
        },
        {
          "output_type": "stream",
          "text": [
            "Loss at epo 0: 4.212227821350098\n",
            "Loss at epo 10: 3.827129364013672\n",
            "Loss at epo 20: 3.536381959915161\n",
            "Loss at epo 30: 3.3085684776306152\n",
            "Loss at epo 40: 3.1279096603393555\n",
            "Loss at epo 50: 2.983936071395874\n",
            "Loss at epo 60: 2.8685877323150635\n",
            "Loss at epo 70: 2.7753350734710693\n",
            "Loss at epo 80: 2.6989493370056152\n",
            "Loss at epo 90: 2.6353745460510254\n"
          ],
          "name": "stdout"
        }
      ]
    },
    {
      "metadata": {
        "id": "GYdemcKMJ8D8",
        "colab_type": "text"
      },
      "cell_type": "markdown",
      "source": [
        "Después del entrenamiento tenemos dos matrices la primera W1 representa el vector $v$ de la palabra central. La matriz W2 representa el vector $u$ de la palabra de contexto.\n"
      ]
    },
    {
      "metadata": {
        "id": "pA07iTF-Rb0o",
        "colab_type": "text"
      },
      "cell_type": "markdown",
      "source": [
        "Para conocer cuán similares son dos palabras. Hallamos el cosine similarity entre los vectores $u$ y $v$.\n",
        "$$\\text{cosine similarity}(u,v) = \\frac{u.v}{||u||_2||v||_2}=cos(\\theta)$$\n",
        "\n",
        "Donde ${||u||}_2 = \\sqrt{\\sum_{i=1}^{n}u_i^2}$.\n",
        "Si $u$ y $v$ son muy similares, el valor del coseno será cercano a $1$. Si ellos no son similares tendrán un valor pequeño cercano a $0$. Si son similares pero opuestos el valor de coseno será $-1$."
      ]
    },
    {
      "metadata": {
        "id": "SvaCy7F2LTMw",
        "colab_type": "code",
        "colab": {
          "base_uri": "https://localhost:8080/",
          "height": 34
        },
        "outputId": "8ba9f1c9-5969-4f21-9b9f-ae23e60d7fd8"
      },
      "cell_type": "code",
      "source": [
        "def cosine_similarity(u, v):\n",
        "    distance = 0.0\n",
        "    dot = torch.dot(u,v)\n",
        "    norm_u = torch.sqrt(torch.sum(u**2))\n",
        "    norm_v = torch.sqrt(torch.sum(v**2))\n",
        "    cosine_similarity = dot/(norm_u*norm_v)\n",
        "    return cosine_similarity\n",
        "  \n",
        "\n",
        "cosine_similarity(W1[:,word2idx[\"man\"]], W1[:, word2idx[\"woman\"]])"
      ],
      "execution_count": 50,
      "outputs": [
        {
          "output_type": "execute_result",
          "data": {
            "text/plain": [
              "tensor(-0.6108, grad_fn=<DivBackward1>)"
            ]
          },
          "metadata": {
            "tags": []
          },
          "execution_count": 50
        }
      ]
    },
    {
      "metadata": {
        "id": "Yy7EnTwFrzJU",
        "colab_type": "text"
      },
      "cell_type": "markdown",
      "source": [
        "Podemos hallar analogias de la siguiente manera:\n",
        "Si \"a\" es a \"b\" como \"c\" es a .... \n",
        "Por ejemplo: \"man es a woman as king es a queen.\" \n",
        "Entonces calculamos la equivalencia de las diferencias de vectores:\n",
        "$$e_b - e_a \\approx e_d - e_c$$"
      ]
    },
    {
      "metadata": {
        "id": "feFS94gqsmSd",
        "colab_type": "code",
        "colab": {}
      },
      "cell_type": "code",
      "source": [
        "def get_analogy(a, b, c, W1):\n",
        "  a, b, c = a.lower(), b.lower(), c.lower()\n",
        "  w2v_a, w2v_b, w2v_c = W1[word2idx[a],:], W1[word2idx[b],:], W1[word2idx[c],:]\n",
        "  max_cosine_sim = -100\n",
        "  best_word = {}\n",
        "  words = word2idx.keys()\n",
        "  for w in words:\n",
        "    if w in [a, b, c]:\n",
        "      continue  \n",
        "    cosine_sim = cosine_similarity(w2v_b - w2v_a, W1[word2idx[w],:] - w2v_c)\n",
        "    best_word[w] = cosine_sim\n",
        "  return best_word"
      ],
      "execution_count": 0,
      "outputs": []
    },
    {
      "metadata": {
        "id": "7LE1FvatvLed",
        "colab_type": "code",
        "colab": {
          "base_uri": "https://localhost:8080/",
          "height": 34
        },
        "outputId": "2a21206f-1b30-4c2f-af32-7ae6f5bd3772"
      },
      "cell_type": "code",
      "source": [
        "get_analogy(\"berlin\", \"germany\", \"paris\", W2)"
      ],
      "execution_count": 96,
      "outputs": [
        {
          "output_type": "execute_result",
          "data": {
            "text/plain": [
              "'france'"
            ]
          },
          "metadata": {
            "tags": []
          },
          "execution_count": 96
        }
      ]
    },
    {
      "metadata": {
        "id": "NqoLBeciHCJo",
        "colab_type": "text"
      },
      "cell_type": "markdown",
      "source": [
        "##Visualización de los vectores de palabras\n",
        "\n",
        "Para visualizar estos vectores usamos t-distributed stochastic neighbor embedding (t-SNE) una técnica de reducción de dimensionalidad que permite visualizar altas dimensiones de espacio en dimensiones pequeñas."
      ]
    },
    {
      "metadata": {
        "id": "PMo2UMDxvUZ8",
        "colab_type": "code",
        "colab": {
          "base_uri": "https://localhost:8080/",
          "height": 485
        },
        "outputId": "4c5df7b3-0722-4540-a804-5ed50ba0ccb0"
      },
      "cell_type": "code",
      "source": [
        "from sklearn.manifold import TSNE\n",
        "import matplotlib.pyplot as plt\n",
        "%matplotlib inline\n",
        "tsne = TSNE(n_components=2, random_state=0, n_iter=10000, perplexity=3)\n",
        "np.set_printoptions(suppress=True)\n",
        "word_vectors = [W1[:,i].data.numpy() for i in range(len(word2idx.keys()))]\n",
        "T = tsne.fit_transform(word_vectors)\n",
        "labels = word2idx.keys()\n",
        "\n",
        "plt.figure(figsize=(14,8))\n",
        "plt.scatter(T[:,0], T[:,1], c='steelblue', edgecolors='k')\n",
        "for label, x, y in zip(labels, T[:,0], T[:,1]):\n",
        "  plt.annotate(label, xy=(x+1, y+1), xytext=(0,0), textcoords='offset points')"
      ],
      "execution_count": 104,
      "outputs": [
        {
          "output_type": "display_data",
          "data": {
            "image/png": "[encoded data removed]",
            "text/plain": [
              "<matplotlib.figure.Figure at 0x7f12ea2f10f0>"
            ]
          },
          "metadata": {
            "tags": []
          }
        }
      ]
    },
    {
      "metadata": {
        "id": "-O2cbH6d_bOA",
        "colab_type": "code",
        "colab": {
          "base_uri": "https://localhost:8080/",
          "height": 483
        },
        "outputId": "85f2e091-e109-428a-edbc-a8b64620396c"
      },
      "cell_type": "code",
      "source": [
        "from sklearn.manifold import TSNE\n",
        "import matplotlib.pyplot as plt\n",
        "%matplotlib inline\n",
        "tsne = TSNE(n_components=2, random_state=0, n_iter=10000, perplexity=3)\n",
        "np.set_printoptions(suppress=True)\n",
        "word_vectors = [W2[i,:].data.numpy() for i in range(len(word2idx.keys()))]\n",
        "T = tsne.fit_transform(word_vectors)\n",
        "labels = word2idx.keys()\n",
        "\n",
        "plt.figure(figsize=(14,8))\n",
        "plt.scatter(T[:,0], T[:,1], c='steelblue', edgecolors='k')\n",
        "for label, x, y in zip(labels, T[:,0], T[:,1]):\n",
        "  plt.annotate(label, xy=(x+1, y+1), xytext=(0,0), textcoords='offset points')"
      ],
      "execution_count": 106,
      "outputs": [
        {
          "output_type": "display_data",
          "data": {
            "image/png": "[encoded data removed]",
            "text/plain": [
              "<matplotlib.figure.Figure at 0x7f12e7a7f400>"
            ]
          },
          "metadata": {
            "tags": []
          }
        }
      ]
    },
    {
      "metadata": {
        "id": "I4rosokAF1gg",
        "colab_type": "code",
        "colab": {}
      },
      "cell_type": "code",
      "source": [
        ""
      ],
      "execution_count": 0,
      "outputs": []
    }
  ]
}